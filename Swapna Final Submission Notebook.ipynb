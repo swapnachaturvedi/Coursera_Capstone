{
    "cells": [
        {
            "cell_type": "markdown",
            "metadata": {
                "collapsed": true
            },
            "source": "# H1 Header Assignment 1 My Jupyter Notebook on IBM Data Science Experience"
        },
        {
            "cell_type": "markdown",
            "metadata": {},
            "source": "Assignment 2  My Name is **Swapna**  \nI work as a Data Scientist"
        },
        {
            "cell_type": "markdown",
            "metadata": {},
            "source": "*Why should i like to become a data scientist. Ofcourse since this is my passion. Data talks to me and i like understanding what it tells me*"
        },
        {
            "cell_type": "markdown",
            "metadata": {},
            "source": "# H3 header Next I would write a code that adds 1 plus 1. Let us see what is the output"
        },
        {
            "cell_type": "code",
            "execution_count": 1,
            "metadata": {},
            "outputs": [
                {
                    "data": {
                        "text/plain": "2"
                    },
                    "execution_count": 1,
                    "metadata": {},
                    "output_type": "execute_result"
                }
            ],
            "source": "1+1"
        },
        {
            "cell_type": "markdown",
            "metadata": {},
            "source": "# H3 Next is 6 lines of rules\nBold comes **asterisks** or __underscores__\nCombined comes with combination **_Bold italics_*\nStrikethrough uses two tildes. ~~Scratch this~~.\nLets see what happens with underscores _Underscore did this_\nLets see what happens with underscores ~~_Underscore Strikethrough did this_~~\n\n[I am an inline line]<https://google.com>"
        },
        {
            "cell_type": "markdown",
            "metadata": {},
            "source": "[I am an inline link to Google](https://google.com)"
        },
        {
            "cell_type": "code",
            "execution_count": null,
            "metadata": {},
            "outputs": [],
            "source": ""
        }
    ],
    "metadata": {
        "kernelspec": {
            "display_name": "Python 3.6",
            "language": "python",
            "name": "python3"
        },
        "language_info": {
            "codemirror_mode": {
                "name": "ipython",
                "version": 3
            },
            "file_extension": ".py",
            "mimetype": "text/x-python",
            "name": "python",
            "nbconvert_exporter": "python",
            "pygments_lexer": "ipython3",
            "version": "3.6.8"
        }
    },
    "nbformat": 4,
    "nbformat_minor": 1
}