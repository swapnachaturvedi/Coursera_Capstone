{
    "cells": [
        {
            "cell_type": "markdown",
            "metadata": {
                "collapsed": true
            },
            "source": "# Heading1 The first notebook for ** Coursera Capstone project **"
        },
        {
            "cell_type": "markdown",
            "metadata": {},
            "source": "## Heading2 This notebook is to be pushed to GitHub after making the change."
        },
        {
            "cell_type": "markdown",
            "metadata": {},
            "source": "### Heading 3 The name of the repository in *GitHub* is ** Coursera_Capstone **"
        },
        {
            "cell_type": "markdown",
            "metadata": {},
            "source": "The link for the GitHub repository for [Swapna Github Repository](https://github.com/swapnachaturvedi/Coursera_Capstone/blob/master/Coursera_Capstone.ipynb)"
        },
        {
            "cell_type": "code",
            "execution_count": 4,
            "metadata": {},
            "outputs": [
                {
                    "name": "stdout",
                    "output_type": "stream",
                    "text": "Hello Capstone Project Course!\n"
                }
            ],
            "source": "import pandas as pd\nimport numpy as np\nprint('Hello Capstone Project Course!')"
        },
        {
            "cell_type": "code",
            "execution_count": null,
            "metadata": {},
            "outputs": [],
            "source": ""
        }
    ],
    "metadata": {
        "kernelspec": {
            "display_name": "Python 3.6",
            "language": "python",
            "name": "python3"
        },
        "language_info": {
            "codemirror_mode": {
                "name": "ipython",
                "version": 3
            },
            "file_extension": ".py",
            "mimetype": "text/x-python",
            "name": "python",
            "nbconvert_exporter": "python",
            "pygments_lexer": "ipython3",
            "version": "3.6.9"
        }
    },
    "nbformat": 4,
    "nbformat_minor": 1
}